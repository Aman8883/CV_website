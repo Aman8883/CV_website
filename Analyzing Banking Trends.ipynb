{
  "nbformat": 4,
  "nbformat_minor": 0,
  "metadata": {
    "colab": {
      "provenance": []
    },
    "kernelspec": {
      "name": "python3",
      "display_name": "Python 3"
    },
    "language_info": {
      "name": "python"
    }
  },
  "cells": [
    {
      "cell_type": "markdown",
      "source": [
        "# Analyzing Banking Trends: Data Cleaning with Python\n",
        "In this project, we focus on preparing a raw banking dataset for analysis by cleaning and transforming the data using Python and pandas. You will learn how to handle missing values, identify and remove duplicates, format data types, and ensure the dataset is ready for further exploration. This step is crucial in maintaining data quality and accuracy, forming the foundation for any meaningful analysis. By the end of this project, you'll have a polished dataset ready for the next stage of analysis."
      ],
      "metadata": {
        "id": "M5rF9bzaKCmf"
      }
    },
    {
      "cell_type": "markdown",
      "source": [
        "**Module 1**\n",
        "\n",
        "\n",
        "Task 1: Data Import and Initial Exploration"
      ],
      "metadata": {
        "id": "aO6GviqIKMD_"
      }
    },
    {
      "cell_type": "code",
      "execution_count": null,
      "metadata": {
        "id": "GOy6QmF4J_jO"
      },
      "outputs": [],
      "source": [
        "#--- Import Pandas ---\n",
        "\n",
        "#--- Read in dataset (user_nodes.csv) ----\n",
        "# ---WRITE YOUR CODE FOR TASK 1 ---\n",
        "import pandas as pd\n",
        "\n",
        "df = pd.read_csv(\"user_nodes.csv\")\n",
        "df.head(5)\n",
        "\n",
        "#--- Inspect data ---"
      ]
    },
    {
      "cell_type": "markdown",
      "source": [
        "\n",
        "Task 2: Identifying Null Values"
      ],
      "metadata": {
        "id": "XEHxcHDwKUt_"
      }
    },
    {
      "cell_type": "code",
      "source": [
        "# --- WRITE YOUR CODE FOR TASK 2 ---\n",
        "null_values = df.isnull().sum()\n",
        "null_values\n"
      ],
      "metadata": {
        "id": "hCv6LqdeKA93"
      },
      "execution_count": null,
      "outputs": []
    },
    {
      "cell_type": "markdown",
      "source": [
        "Task 3: Identifying Duplicate Data"
      ],
      "metadata": {
        "id": "NhYZn_lSKlrV"
      }
    },
    {
      "cell_type": "code",
      "source": [
        "# --- WRITE YOUR CODE FOR TASK 3 ---\n",
        "duplicates = df.duplicated().sum()\n",
        "duplicates"
      ],
      "metadata": {
        "id": "f1GJbaMAKBEE"
      },
      "execution_count": null,
      "outputs": []
    },
    {
      "cell_type": "markdown",
      "source": [
        "Task 4: Removing Duplicate Data"
      ],
      "metadata": {
        "id": "pKcByuQ5K2s9"
      }
    },
    {
      "cell_type": "code",
      "source": [
        " # --- WRITE YOUR CODE FOR TASK 4 ---\n",
        " df = df.drop_duplicates()\n",
        " df"
      ],
      "metadata": {
        "id": "zVcNOaBdKBGV"
      },
      "execution_count": null,
      "outputs": []
    },
    {
      "cell_type": "markdown",
      "source": [
        "Task 5: Data Transformation and Cleanup"
      ],
      "metadata": {
        "id": "fWQFOxyEK_Q9"
      }
    },
    {
      "cell_type": "code",
      "source": [
        "# --- WRITE YOUR CODE FOR TASK 5 --- ​\n",
        "df = df.drop([\"has_loan\",\"is_act\"],axis=\"columns\")\n",
        "df\n"
      ],
      "metadata": {
        "id": "Bb5_VPsnKBIo"
      },
      "execution_count": null,
      "outputs": []
    },
    {
      "cell_type": "markdown",
      "source": [
        "Task 6: Renaming Columns\n"
      ],
      "metadata": {
        "id": "WM3j-pYdLLgU"
      }
    },
    {
      "cell_type": "code",
      "source": [
        "# --- WRITE YOUR CODE FOR TASK 6 ---\n",
        "df.rename(columns={ \"id_\": \"consumer_id\", \"area_id_\": \"region_id\", \"node_id_\": \"node_id\", \"act_date\": \"start_date\", \"deact_date\": \"end_date\" }, inplace=True) ​"
      ],
      "metadata": {
        "id": "GCnf9DhbKBK9"
      },
      "execution_count": null,
      "outputs": []
    },
    {
      "cell_type": "markdown",
      "source": [
        "Task 7: Importing Transaction Data"
      ],
      "metadata": {
        "id": "oRNA_CkyLSUN"
      }
    },
    {
      "cell_type": "code",
      "source": [
        "#--- Import Pandas --- ​\n",
        "#--- Read in dataset (user_transactions.csv) ----\n",
        "# ---WRITE YOUR CODE FOR TASK 7 ---\n",
        "df1 = pd.read_csv(\"user_transactions.csv\") df1 ​\n",
        "#--- Inspect data ---"
      ],
      "metadata": {
        "id": "xzUAjJ2tKBNp"
      },
      "execution_count": null,
      "outputs": []
    },
    {
      "cell_type": "markdown",
      "source": [
        "Task 8: Identifying Null Values in Transaction Data"
      ],
      "metadata": {
        "id": "Cyh9UEA-NFdW"
      }
    },
    {
      "cell_type": "code",
      "source": [
        "# --- WRITE YOUR CODE FOR TASK 8 ---\n",
        "null_value = df1.isnull().sum() null_value"
      ],
      "metadata": {
        "id": "dlzE5qJ3NFru"
      },
      "execution_count": null,
      "outputs": []
    },
    {
      "cell_type": "markdown",
      "source": [
        "Task 9: Identifying Duplicate Data in Transaction Data"
      ],
      "metadata": {
        "id": "AqpGlggwNRtX"
      }
    },
    {
      "cell_type": "code",
      "source": [
        "# --- WRITE YOUR CODE FOR TASK 9 ---\n",
        "duplicate = df1.duplicated().sum()\n",
        "duplicate"
      ],
      "metadata": {
        "id": "kqr0F78INStX"
      },
      "execution_count": null,
      "outputs": []
    },
    {
      "cell_type": "markdown",
      "source": [
        "Task 10: Removing Duplicate Data in Transaction Data"
      ],
      "metadata": {
        "id": "33rjv15nNYZQ"
      }
    },
    {
      "cell_type": "code",
      "source": [
        "# --- WRITE YOUR CODE FOR TASK 10 ---\n",
        "df1= df1.drop_duplicates()\n",
        "df1"
      ],
      "metadata": {
        "id": "Hdu09iGxNbcA"
      },
      "execution_count": null,
      "outputs": []
    },
    {
      "cell_type": "markdown",
      "source": [
        "Task 11: Cleaning Transaction Data"
      ],
      "metadata": {
        "id": "UR83kuwNNiP5"
      }
    },
    {
      "cell_type": "code",
      "source": [
        "# --- WRITE YOUR CODE FOR TASK 11 --- ​\n",
        "df1 = df1.drop(['has_credit_card','account_type'],axis='columns')"
      ],
      "metadata": {
        "id": "U5-v5WCaNjKx"
      },
      "execution_count": null,
      "outputs": []
    },
    {
      "cell_type": "markdown",
      "source": [
        "Task 12: Renaming Columns-Transaction Data"
      ],
      "metadata": {
        "id": "2-7H-U1aNsKb"
      }
    },
    {
      "cell_type": "code",
      "source": [
        "# --- WRITE YOUR CODE FOR TASK 12 ---\n",
        "df1.rename(columns={ \"id_\": \"consumer_id\", \"t_date\": \"transaction_date\", \"t_type\": \"transaction_type\", \"t_amt\": \"transaction_amount\"}, inplace=True) ​ ​"
      ],
      "metadata": {
        "id": "ZpafpIY-NsSs"
      },
      "execution_count": null,
      "outputs": []
    }
  ]
}